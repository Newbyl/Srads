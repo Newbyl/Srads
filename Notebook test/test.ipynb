{
 "cells": [
  {
   "cell_type": "code",
   "execution_count": 132,
   "id": "496de221-8bb1-4a39-abe2-15248ed521e2",
   "metadata": {},
   "outputs": [],
   "source": [
    "import numpy as np"
   ]
  },
  {
   "cell_type": "code",
   "execution_count": 133,
   "id": "51b8e14a-5756-4ef8-9cbb-bb7055d1a551",
   "metadata": {},
   "outputs": [],
   "source": [
    "import numpy as np"
   ]
  },
  {
   "cell_type": "code",
   "execution_count": 134,
   "id": "f73e5f61-836f-4f45-8464-065e5cc0565f",
   "metadata": {},
   "outputs": [],
   "source": [
    "def initializeWeights(layer_dims):\n",
    "    parameters = {}\n",
    "    L = len(layer_dims)\n",
    "\n",
    "    for l in range(1, L):\n",
    "        parameters['W' + str(l)] = np.random.randn(layer_dims[l], layer_dims[l-1]) / np.sqrt(layer_dims[l-1]) #*0.01\n",
    "        parameters['b' + str(l)] = np.zeros((layer_dims[l], 1))\n",
    "        \n",
    "        assert(parameters['W' + str(l)].shape == (layer_dims[l], layer_dims[l-1]))\n",
    "        assert(parameters['b' + str(l)].shape == (layer_dims[l], 1))\n",
    "\n",
    "        \n",
    "    return parameters"
   ]
  },
  {
   "cell_type": "code",
   "execution_count": 135,
   "id": "7e4bb18e-89a2-463b-8d65-6f589e482f02",
   "metadata": {},
   "outputs": [
    {
     "name": "stdout",
     "output_type": "stream",
     "text": [
      "{'W1': array([[ 0.50207201, -0.67600515,  0.06832904,  0.00073199],\n",
      "       [-0.30845414, -0.11818861, -0.22877076, -0.32259881],\n",
      "       [ 0.10836524,  0.17691851,  0.21065637,  0.37227375]]), 'b1': array([[0.],\n",
      "       [0.],\n",
      "       [0.]]), 'W2': array([[-0.22709537, -0.55499945, -0.37305829],\n",
      "       [ 0.76335124,  0.26988408, -1.17227612],\n",
      "       [ 0.48421261, -0.15269383,  0.67974033]]), 'b2': array([[0.],\n",
      "       [0.],\n",
      "       [0.]]), 'W3': array([[ 0.44050304,  0.68788592, -0.23683552]]), 'b3': array([[0.]])}\n"
     ]
    }
   ],
   "source": [
    "test = initializeWeights([4,3,3,1])\n",
    "print(test)"
   ]
  },
  {
   "cell_type": "code",
   "execution_count": 136,
   "id": "f8ef3c5e-7f24-437c-b76d-70f7a78904b9",
   "metadata": {},
   "outputs": [],
   "source": [
    "def relu(Z):\n",
    "    A = np.maximum(0,Z)\n",
    "    \n",
    "    assert(A.shape == Z.shape)\n",
    "    \n",
    "    cache = Z \n",
    "    return A, cache"
   ]
  },
  {
   "cell_type": "code",
   "execution_count": 137,
   "id": "a3a08a22-f87f-476c-9306-c3bc006efb59",
   "metadata": {},
   "outputs": [],
   "source": [
    "def sigmoid(Z):\n",
    "    A = 1/(1+np.exp(-Z))\n",
    "    cache = Z\n",
    "    \n",
    "    return A, cache\n"
   ]
  },
  {
   "cell_type": "code",
   "execution_count": 138,
   "id": "7491d96a-c11a-4449-b523-2fbef5e6f74c",
   "metadata": {},
   "outputs": [],
   "source": [
    "def linearForward(A, W, b):\n",
    "    Z = W.dot(A) + b\n",
    "    assert(Z.shape == (W.shape[0], A.shape[1]))\n",
    "    cache = (A, W, b)\n",
    "\n",
    "    return Z, cache"
   ]
  },
  {
   "cell_type": "code",
   "execution_count": 139,
   "id": "cca78eca-604e-4060-9019-9eae1e9e75f8",
   "metadata": {},
   "outputs": [],
   "source": [
    "def linearActivationForwardRelu(aPrev, W, b):\n",
    "    Z, linearCache = linearForward(aPrev, W, b)\n",
    "    A, activationCache = relu(Z)\n",
    "\n",
    "    cache = (linearCache, activationCache)\n",
    "    \n",
    "    return A, cache"
   ]
  },
  {
   "cell_type": "code",
   "execution_count": 140,
   "id": "79a1cbf8-5366-4ed9-956a-70ef67bba638",
   "metadata": {},
   "outputs": [],
   "source": [
    "def linearActivationForwardSigmoid(aPrev, W, b):\n",
    "    Z, linearCache = linearForward(aPrev, W, b)\n",
    "    A, activationCache = sigmoid(Z)\n",
    "\n",
    "    cache = (linearCache, activationCache)\n",
    "    \n",
    "    return A, cache"
   ]
  },
  {
   "cell_type": "code",
   "execution_count": 141,
   "id": "b7253488-7422-4a8a-b08b-a3324dad0029",
   "metadata": {},
   "outputs": [],
   "source": [
    "def forwardProp(X, parameters):\n",
    "    caches = []\n",
    "    A = X\n",
    "    L = len(parameters) // 2\n",
    "    \n",
    "    \n",
    "    for l in range(1, L):\n",
    "        A_prev = A \n",
    "        A, cache = linearActivationForwardRelu(A_prev, parameters['W' + str(l)], parameters['b' + str(l)])\n",
    "        caches.append(cache)\n",
    "    \n",
    "    \n",
    "    AL, cache = linearActivationForwardSigmoid(A, parameters['W' + str(L)], parameters['b' + str(L)])\n",
    "    caches.append(cache)\n",
    "    \n",
    "    assert(AL.shape == (1,X.shape[1]))\n",
    "            \n",
    "    return AL, caches"
   ]
  },
  {
   "cell_type": "code",
   "execution_count": 142,
   "id": "1edd5424-03b2-43a5-833c-3c9b118cee46",
   "metadata": {},
   "outputs": [],
   "source": [
    "def computeCost(AL, Y):\n",
    "    m = Y.shape[1]\n",
    "    cost = (-1/m) * (np.dot(Y, np.log(AL).T) + np.dot((1-Y), np.log(1-AL).T))\n",
    "    np.squeeze(cost)\n",
    "\n",
    "    return cost"
   ]
  },
  {
   "cell_type": "code",
   "execution_count": 143,
   "id": "7920bea3-697b-436e-8640-b43a665bbb26",
   "metadata": {},
   "outputs": [],
   "source": [
    "def relu_backward(dA, cache):\n",
    "    Z = cache\n",
    "    dZ = np.array(dA, copy=True) \n",
    "    \n",
    "    dZ[Z <= 0] = 0\n",
    "    \n",
    "    assert (dZ.shape == Z.shape)\n",
    "    \n",
    "    return dZ"
   ]
  },
  {
   "cell_type": "code",
   "execution_count": 144,
   "id": "419a3fa1-a02e-4f74-8411-0da99d0e58b7",
   "metadata": {},
   "outputs": [],
   "source": [
    "def sigmoid_backward(dA, cache):\n",
    "    Z = cache\n",
    "    \n",
    "    s = 1/(1+np.exp(-Z))\n",
    "    dZ = dA * s * (1-s)\n",
    "    \n",
    "    assert (dZ.shape == Z.shape)\n",
    "    \n",
    "    return dZ"
   ]
  },
  {
   "cell_type": "code",
   "execution_count": 145,
   "id": "37789d9c-5255-4be0-a239-98046405e8ef",
   "metadata": {},
   "outputs": [],
   "source": [
    "def linearBackward(dZ, cache):\n",
    "    A_prev, W, b = cache\n",
    "    m = A_prev.shape[1]\n",
    "\n",
    "    dW = (1/m) * np.dot(dZ, A_prev.T)\n",
    "    db = (1/m) * np.sum(dZ, axis=1, keepdims=True)\n",
    "    dA_prev = np.dot(W.T,dZ)\n",
    "\n",
    "    return dA_prev, dW, db"
   ]
  },
  {
   "cell_type": "code",
   "execution_count": 146,
   "id": "1a9b7418-6060-494a-9781-19a1ea1bda13",
   "metadata": {},
   "outputs": [],
   "source": [
    "def linearActivationBackwardRelu(dA, cache):\n",
    "    linear_cache, activation_cache = cache\n",
    "    dZ = relu_backward(dA, activation_cache)\n",
    "    \n",
    "    dA_prev, dW, db = linearBackward(dZ, linear_cache)\n",
    "    \n",
    "    return dA_prev, dW, db"
   ]
  },
  {
   "cell_type": "code",
   "execution_count": 147,
   "id": "cdb001db-9a4f-4c3d-9a11-cc062c38721a",
   "metadata": {},
   "outputs": [],
   "source": [
    "def linearActivationBackwardSigmoid(dA, cache):\n",
    "    linear_cache, activation_cache = cache\n",
    "    dZ = sigmoid_backward(dA, activation_cache)\n",
    "    \n",
    "    dA_prev, dW, db = linearBackward(dZ, linear_cache)\n",
    "    \n",
    "    return dA_prev, dW, db"
   ]
  },
  {
   "cell_type": "code",
   "execution_count": 148,
   "id": "ca1e63ad-a1f4-46fb-a5d0-cbc37a3fd4a7",
   "metadata": {},
   "outputs": [
    {
     "data": {
      "text/plain": [
       "array([[1., 0., 0., 0., 1., 0.],\n",
       "       [0., 1., 0., 0., 0., 0.],\n",
       "       [0., 0., 0., 0., 0., 0.],\n",
       "       [0., 0., 1., 0., 0., 0.],\n",
       "       [0., 0., 0., 1., 0., 0.],\n",
       "       [0., 0., 0., 0., 0., 0.],\n",
       "       [0., 0., 0., 0., 0., 0.],\n",
       "       [0., 0., 0., 0., 0., 0.],\n",
       "       [0., 0., 0., 0., 0., 0.],\n",
       "       [0., 0., 0., 0., 0., 1.]])"
      ]
     },
     "execution_count": 148,
     "metadata": {},
     "output_type": "execute_result"
    }
   ],
   "source": [
    "def one_hot(Y):\n",
    "    one_hot_Y = np.zeros((Y.size, Y.max() + 1))\n",
    "    one_hot_Y[np.arange(Y.size), Y] = 1\n",
    "    one_hot_Y = one_hot_Y.T\n",
    "    return one_hot_Y\n",
    "\n",
    "one_hot(np.array([0,1,3,4,0,9]))"
   ]
  },
  {
   "cell_type": "code",
   "execution_count": 149,
   "id": "67816069-43fd-454d-9e8e-67dda205619f",
   "metadata": {},
   "outputs": [],
   "source": [
    "def modelBackward(AL, Y, caches):\n",
    "    grads = {}\n",
    "    L = len(caches)\n",
    "    m = AL.shape[1]\n",
    "    Y = Y.reshape(AL.shape)\n",
    "    \n",
    "    dAL = - (np.divide(Y, AL) - np.divide(1 - Y, 1 - AL))\n",
    "    \n",
    "    current_cache = caches[L-1]\n",
    "    grads[\"dA\" + str(L-1)], grads[\"dW\" + str(L)], grads[\"db\" + str(L)] = linearActivationBackwardSigmoid(dAL, current_cache)\n",
    "\n",
    "    for l in reversed(range(L-1)):\n",
    "        current_cache = caches[l]\n",
    "        dA_prev_temp, dW_temp, db_temp = linearActivationBackwardRelu(grads[\"dA\" + str(l + 1)], current_cache)\n",
    "        grads[\"dA\" + str(l)] = dA_prev_temp\n",
    "        grads[\"dW\" + str(l + 1)] = dW_temp\n",
    "        grads[\"db\" + str(l + 1)] = db_temp\n",
    "\n",
    "    return grads"
   ]
  },
  {
   "cell_type": "code",
   "execution_count": 150,
   "id": "861b088f-552e-42aa-8012-7ebf9a9c845b",
   "metadata": {},
   "outputs": [],
   "source": [
    "def softmax(Z):\n",
    "    return np.exp(Z) / np.sum(np.exp(Z))"
   ]
  },
  {
   "cell_type": "code",
   "execution_count": 151,
   "id": "b272fe9f-6f2b-4206-8cc1-203d3ccee2b6",
   "metadata": {},
   "outputs": [],
   "source": [
    "def updateParameters(parameters, grads, learning_rate):\n",
    "    L = len(parameters) // 2 \n",
    "\n",
    "    for l in range(L):\n",
    "        parameters[\"W\" + str(l+1)] = parameters[\"W\" + str(l+1)] - learning_rate * grads[\"dW\" + str(l+1)]\n",
    "        parameters[\"b\" + str(l+1)] = parameters[\"b\" + str(l+1)] - learning_rate * grads[\"db\" + str(l+1)]\n",
    "\n",
    "    return parameters"
   ]
  },
  {
   "cell_type": "code",
   "execution_count": 152,
   "id": "89feebee-dfee-4674-9085-c49c1ef7720f",
   "metadata": {},
   "outputs": [],
   "source": [
    "def modelFit(X, Y, layerDims, epochs, learning_rate, print_cost=True):\n",
    "    costs = []\n",
    "    \n",
    "    parameters = initializeWeights(layerDims)\n",
    "    \n",
    "    # Descente de gradient\n",
    "    for i in range(0, epochs):\n",
    "        AL, caches = forwardProp(X, parameters)\n",
    "        \n",
    "        cost = computeCost(AL, Y)\n",
    "\n",
    "        grads = modelBackward(AL, Y, caches)\n",
    "        \n",
    "        parameters = updateParameters(parameters, grads, learning_rate)\n",
    "        if print_cost and i % 100 == 0 or i == epochs - 1:\n",
    "            print(\"Cost after iteration {}: {}\".format(i, np.squeeze(cost)))\n",
    "        if i % 100 == 0 or i == epochs:\n",
    "            costs.append(cost)\n",
    "    \n",
    "    return parameters, costs"
   ]
  },
  {
   "cell_type": "code",
   "execution_count": 153,
   "id": "87e89b49-80c4-43fd-ba32-f37d038449cd",
   "metadata": {},
   "outputs": [],
   "source": [
    "def predict(X, y, parameters):\n",
    "    m = X.shape[1]\n",
    "    n = len(parameters) // 2 \n",
    "    p = np.zeros((1,m))\n",
    "    \n",
    "    probas, caches = forwardProp(X, parameters)\n",
    "\n",
    "    for i in range(0, probas.shape[1]):\n",
    "        if probas[0,i] > 0.5:\n",
    "            p[0,i] = 1\n",
    "        else:\n",
    "            p[0,i] = 0\n",
    "\n",
    "    print(\"Accuracy: \"  + str(np.sum((p == y)/m)))\n",
    "        \n",
    "    return p"
   ]
  },
  {
   "cell_type": "code",
   "execution_count": 154,
   "id": "fed040ee-65d8-4af2-a96a-1ee7feb9c2ce",
   "metadata": {},
   "outputs": [],
   "source": [
    "import h5py\n",
    "import numpy as np"
   ]
  },
  {
   "cell_type": "code",
   "execution_count": 155,
   "id": "dbb8c23e-2bd0-47ea-9428-c78271c4fba4",
   "metadata": {},
   "outputs": [],
   "source": [
    "def load_data():\n",
    "    train_dataset = h5py.File('datasets/train_catvnoncat.h5', \"r\")\n",
    "    train_set_x_orig = np.array(train_dataset[\"train_set_x\"][:])\n",
    "    train_set_y_orig = np.array(train_dataset[\"train_set_y\"][:])\n",
    "\n",
    "    test_dataset = h5py.File('datasets/test_catvnoncat.h5', \"r\")\n",
    "    test_set_x_orig = np.array(test_dataset[\"test_set_x\"][:])\n",
    "    test_set_y_orig = np.array(test_dataset[\"test_set_y\"][:])\n",
    "\n",
    "    classes = np.array(test_dataset[\"list_classes\"][:])\n",
    "    \n",
    "    train_set_y_orig = train_set_y_orig.reshape((1, train_set_y_orig.shape[0]))\n",
    "    test_set_y_orig = test_set_y_orig.reshape((1, test_set_y_orig.shape[0]))\n",
    "    \n",
    "    return train_set_x_orig, train_set_y_orig, test_set_x_orig, test_set_y_orig, classes"
   ]
  },
  {
   "cell_type": "code",
   "execution_count": 156,
   "id": "e5be8a46-9000-4f60-a459-3f01b410baaf",
   "metadata": {},
   "outputs": [],
   "source": [
    "train_x_orig, train_y, test_x_orig, test_y, classes = load_data()"
   ]
  },
  {
   "cell_type": "code",
   "execution_count": 157,
   "id": "8f895393-2b6a-46d7-a376-0ca03cceeb58",
   "metadata": {},
   "outputs": [
    {
     "name": "stdout",
     "output_type": "stream",
     "text": [
      "(209, 64, 64, 3)\n"
     ]
    }
   ],
   "source": [
    "print(train_x_orig.shape)"
   ]
  },
  {
   "cell_type": "code",
   "execution_count": 158,
   "id": "dcec40e1-819d-4681-9f50-f70deab52127",
   "metadata": {},
   "outputs": [
    {
     "name": "stdout",
     "output_type": "stream",
     "text": [
      "Number of training examples: 209\n",
      "Number of testing examples: 50\n",
      "Each image is of size: (64, 64, 3)\n",
      "train_x_orig shape: (209, 64, 64, 3)\n",
      "train_y shape: (1, 209)\n",
      "test_x_orig shape: (50, 64, 64, 3)\n",
      "test_y shape: (1, 50)\n"
     ]
    }
   ],
   "source": [
    "m_train = train_x_orig.shape[0]\n",
    "num_px = train_x_orig.shape[1]\n",
    "m_test = test_x_orig.shape[0]\n",
    "\n",
    "print (\"Number of training examples: \" + str(m_train))\n",
    "print (\"Number of testing examples: \" + str(m_test))\n",
    "print (\"Each image is of size: (\" + str(num_px) + \", \" + str(num_px) + \", 3)\")\n",
    "print (\"train_x_orig shape: \" + str(train_x_orig.shape))\n",
    "print (\"train_y shape: \" + str(train_y.shape))\n",
    "print (\"test_x_orig shape: \" + str(test_x_orig.shape))\n",
    "print (\"test_y shape: \" + str(test_y.shape))"
   ]
  },
  {
   "cell_type": "code",
   "execution_count": 159,
   "id": "1bb878a3-cb6b-4e86-bb5e-3022a75d5e8f",
   "metadata": {},
   "outputs": [
    {
     "name": "stdout",
     "output_type": "stream",
     "text": [
      "train_x's shape: (12288, 209)\n",
      "test_x's shape: (12288, 50)\n"
     ]
    }
   ],
   "source": [
    "train_x_flatten = train_x_orig.reshape(train_x_orig.shape[0], -1).T\n",
    "test_x_flatten = test_x_orig.reshape(test_x_orig.shape[0], -1).T\n",
    "\n",
    "train_x = train_x_flatten/255.\n",
    "test_x = test_x_flatten/255.\n",
    "\n",
    "print (\"train_x's shape: \" + str(train_x.shape))\n",
    "print (\"test_x's shape: \" + str(test_x.shape))"
   ]
  },
  {
   "cell_type": "code",
   "execution_count": 162,
   "id": "c468c165-fa2a-4b94-ae6e-8f0ff5c5757d",
   "metadata": {},
   "outputs": [
    {
     "name": "stdout",
     "output_type": "stream",
     "text": [
      "Cost after iteration 0: 0.7212545152353563\n",
      "Cost after iteration 100: 0.594611996749886\n",
      "Cost after iteration 200: 0.5437067042597034\n",
      "Cost after iteration 300: 0.48470873199103964\n",
      "Cost after iteration 400: 0.4286362627808889\n",
      "Cost after iteration 500: 0.3683182218096129\n",
      "Cost after iteration 600: 0.2895424499085322\n",
      "Cost after iteration 700: 0.15229210718248334\n",
      "Cost after iteration 800: 0.09766842240340667\n",
      "Cost after iteration 900: 0.06417986282988597\n",
      "Cost after iteration 1000: 0.043013320966717734\n",
      "Cost after iteration 1100: 0.03064791562317098\n",
      "Cost after iteration 1200: 0.02173385426735686\n",
      "Cost after iteration 1300: 0.016599528332941798\n",
      "Cost after iteration 1400: 0.012499312215914531\n",
      "Cost after iteration 1500: 0.009780367679394903\n",
      "Cost after iteration 1600: 0.007912856562713087\n",
      "Cost after iteration 1700: 0.006569947698800652\n",
      "Cost after iteration 1800: 0.005504979404175554\n",
      "Cost after iteration 1900: 0.004707875541822656\n",
      "Cost after iteration 2000: 0.004093266632146202\n",
      "Cost after iteration 2100: 0.003604662633179828\n",
      "Cost after iteration 2200: 0.003207815046516103\n",
      "Cost after iteration 2300: 0.0028812447491387916\n",
      "Cost after iteration 2400: 0.002608505306220387\n",
      "Cost after iteration 2499: 0.002379415261084176\n"
     ]
    }
   ],
   "source": [
    "param = modelFit(train_x, train_y, [12288, 64, 32, 16, 1], 2500, 0.009)"
   ]
  },
  {
   "cell_type": "code",
   "execution_count": 163,
   "id": "297640b6-77b1-4d98-8c97-6d1b7356831a",
   "metadata": {},
   "outputs": [
    {
     "name": "stdout",
     "output_type": "stream",
     "text": [
      "Accuracy: 0.78\n",
      "[[1. 1. 1. 1. 1. 1. 0. 1. 1. 1. 1. 1. 1. 1. 0. 1. 0. 1. 0. 0. 1. 0. 0. 1.\n",
      "  1. 1. 1. 0. 0. 1. 1. 1. 1. 1. 1. 0. 0. 1. 0. 0. 0. 1. 1. 0. 1. 0. 0. 1.\n",
      "  1. 0.]]\n"
     ]
    }
   ],
   "source": [
    "print(predict(test_x, test_y, param[0]))"
   ]
  },
  {
   "cell_type": "code",
   "execution_count": null,
   "id": "77240366-ccc2-4ca2-bb12-8927efcae154",
   "metadata": {},
   "outputs": [],
   "source": []
  }
 ],
 "metadata": {
  "kernelspec": {
   "display_name": "Python 3 (ipykernel)",
   "language": "python",
   "name": "python3"
  },
  "language_info": {
   "codemirror_mode": {
    "name": "ipython",
    "version": 3
   },
   "file_extension": ".py",
   "mimetype": "text/x-python",
   "name": "python",
   "nbconvert_exporter": "python",
   "pygments_lexer": "ipython3",
   "version": "3.9.16"
  }
 },
 "nbformat": 4,
 "nbformat_minor": 5
}
